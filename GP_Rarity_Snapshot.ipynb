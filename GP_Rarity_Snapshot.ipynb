{
  "cells": [
    {
      "cell_type": "code",
      "execution_count": null,
      "metadata": {
        "id": "91Jcv8q35bEz"
      },
      "outputs": [],
      "source": [
        "timestamp = \"2023-04-17 22:00\" # Enter timestamp in UTC in this format\n",
        "api_key = \"your API key\" # Enter your API key\n",
        "garden_point_contract = \"0xFeffc0E5C9575576C1922978102afa2D803Dc93F\" # Enter garden point's contract\n",
        "ch_proxy = \"0x0b2e0bdaffd0881988f37057104977c9206fe481\" # Enter cyberhornets' proxy contract on kometh\n",
        "ch_comics = \"0x303Fd791674D67e1288f769B54699c170eEdE5e7\" # Enter cyberhornets' comic contract "
      ]
    },
    {
      "cell_type": "code",
      "execution_count": null,
      "metadata": {
        "id": "cgT_1rUCqlWi"
      },
      "outputs": [],
      "source": [
        "# format for api_key\n",
        "# api_key = \"xxxxxxxx-yyyy-zzzz-aaaa-bbbbbbbbbbbb\""
      ]
    },
    {
      "cell_type": "code",
      "execution_count": null,
      "metadata": {
        "colab": {
          "base_uri": "https://localhost:8080/"
        },
        "id": "z8Nj4DLXmTZ1",
        "outputId": "275a14f8-3558-4534-e41a-288d129a231c"
      },
      "outputs": [],
      "source": [
        "pip install shroomdk"
      ]
    },
    {
      "cell_type": "code",
      "execution_count": null,
      "metadata": {},
      "outputs": [],
      "source": [
        "import pandas as pd "
      ]
    },
    {
      "cell_type": "code",
      "execution_count": null,
      "metadata": {
        "id": "fEdyIR7pmZQc"
      },
      "outputs": [],
      "source": [
        "from shroomdk import ShroomDK\n",
        "\n",
        "# Initialize `ShroomDK` with your API Key\n",
        "sdk = ShroomDK(api_key)\n",
        "\n",
        "\n",
        "# First query is to get a block number for snapshot that corresponds to snapshot time\n",
        "sql_blocknumber = f\"\"\"\n",
        "    SELECT\n",
        "        block_timestamp, \n",
        "        block_number\n",
        "    FROM ethereum.core.ez_nft_transfers\n",
        "    WHERE date_trunc('minute', block_timestamp) = '{timestamp}'\n",
        "    ORDER BY block_timestamp DESC\n",
        "    LIMIT 1\n",
        "\"\"\"\n",
        "\n",
        "query_result_timestamp = sdk.query(sql_blocknumber)\n",
        "\n",
        "for record in query_result_timestamp.records:\n",
        "    snapshot = record['block_number']"
      ]
    },
    {
      "cell_type": "code",
      "execution_count": null,
      "metadata": {
        "id": "CYwC-A8ZmcQU"
      },
      "outputs": [],
      "source": [
        "# Parameters can be passed into SQL statements \n",
        "# via native string interpolation\n",
        "# Second query is to obtain token wallet balances during a particular block \n",
        "\n",
        "my_address = garden_point_contract # garden point contract\n",
        "\n",
        "sql = f\"\"\"\n",
        "    WITH wallets as(\n",
        "    SELECT \n",
        "        nft_to_address as wallet, \n",
        "        max(block_number) as last_transfer \n",
        "    FROM ethereum.core.ez_nft_transfers \n",
        "    WHERE nft_address = LOWER('{my_address}')\n",
        "    GROUP BY wallet\n",
        "    ),\n",
        "\n",
        "    first_data as(\n",
        "    SELECT\n",
        "        nft_to_address as owner,\n",
        "        tokenid\n",
        "    FROM ethereum.core.ez_nft_transfers\n",
        "    WHERE nft_address = LOWER('{my_address}')\n",
        "    AND block_number <= '{snapshot}'\n",
        "    QUALIFY RANK() OVER (\n",
        "        PARTITION BY tokenid \n",
        "        ORDER BY block_number DESC, event_index DESC) = 1        \n",
        "    )\n",
        "    SELECT *\n",
        "    FROM first_data\n",
        "    ORDER BY owner\n",
        "    \n",
        "\"\"\"\n",
        "\n",
        "# Run the query against Flipside's query engine \n",
        "# and await the results\n",
        "query_result_set = sdk.query(sql)"
      ]
    },
    {
      "cell_type": "code",
      "execution_count": null,
      "metadata": {
        "id": "QQzk6S4Zmu_a"
      },
      "outputs": [],
      "source": [
        "# create empty data frame container for garden point rarity holder\n",
        "data = []\n",
        "\n",
        "# convert sql run result into pandas dataframe\n",
        "for record in query_result_set.records:\n",
        "    owner = record['owner']\n",
        "    tokenid = record['tokenid']\n",
        "    data.append({'owner': owner, 'token_id': tokenid})\n",
        "df = pd.DataFrame(data)\n",
        "\n",
        "# convert token id data type from object/string to integer\n",
        "df['token_id'] = df['token_id'].astype(int)"
      ]
    },
    {
      "cell_type": "code",
      "execution_count": null,
      "metadata": {
        "id": "YrQSaC7omxS1"
      },
      "outputs": [],
      "source": [
        "# import garden point token metadata from github repository\n",
        "\n",
        "token_metadata_url = 'https://raw.githubusercontent.com/fcitra/GP-snapshot/main/GardenPoint%20Covers.csv'\n",
        "token_metadata_df = pd.read_csv(token_metadata_url)"
      ]
    },
    {
      "cell_type": "code",
      "execution_count": null,
      "metadata": {
        "id": "bGxk7o_hm0wP"
      },
      "outputs": [],
      "source": [
        "# merge token holders' snapshot with token metadata\n",
        "merged_df = pd.merge(df, token_metadata_df, on ='token_id', how = 'left')\n",
        "\n",
        "# fill missing metadata value for new tokens minted from burning event \n",
        "merged_df['Metadata'].fillna('RARE', inplace = True)\n",
        "\n",
        "# group token quantity based on holder wallet and rarity type\n",
        "grouped_df = merged_df.groupby(['owner', 'Metadata'])['Metadata'].size()\n",
        "\n",
        "# unstack grouped rows into columns\n",
        "df_unstack = grouped_df.unstack()\n",
        "\n",
        "# change NaN value into 0 \n",
        "df_unstack = df_unstack.fillna(0)"
      ]
    },
    {
      "cell_type": "code",
      "execution_count": null,
      "metadata": {
        "id": "wkw5YNrNm1Qw"
      },
      "outputs": [],
      "source": [
        "# create file csv file name\n",
        "csv_name = 'snapshot_rarity_block_' + str(snapshot) + '.csv'\n",
        "\n",
        "# export dataframe to csv file \n",
        "\n",
        "df_unstack.to_csv(csv_name, index = True)"
      ]
    }
  ],
  "metadata": {
    "colab": {
      "provenance": []
    },
    "kernelspec": {
      "display_name": "Python 3.9.6 64-bit",
      "language": "python",
      "name": "python3"
    },
    "language_info": {
      "codemirror_mode": {
        "name": "ipython",
        "version": 3
      },
      "file_extension": ".py",
      "mimetype": "text/x-python",
      "name": "python",
      "nbconvert_exporter": "python",
      "pygments_lexer": "ipython3",
      "version": "3.9.6"
    },
    "vscode": {
      "interpreter": {
        "hash": "31f2aee4e71d21fbe5cf8b01ff0e069b9275f58929596ceb00d14d90e3e16cd6"
      }
    }
  },
  "nbformat": 4,
  "nbformat_minor": 0
}

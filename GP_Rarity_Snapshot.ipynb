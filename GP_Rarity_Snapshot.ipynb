{
  "nbformat": 4,
  "nbformat_minor": 0,
  "metadata": {
    "colab": {
      "provenance": []
    },
    "kernelspec": {
      "name": "python3",
      "display_name": "Python 3"
    },
    "language_info": {
      "name": "python"
    }
  },
  "cells": [
    {
      "cell_type": "code",
      "source": [
        "timestamp = \"2023-03-21 22:00\" # Enter timestamp in UTC in this format\n",
        "api_key = \"your API key\" # Enter your API key "
      ],
      "metadata": {
        "id": "91Jcv8q35bEz"
      },
      "execution_count": 1,
      "outputs": []
    },
    {
      "cell_type": "code",
      "source": [
        "# format for api_key\n",
        "# api_key = \"xxxxxxxx-yyyy-zzzz-aaaa-bbbbbbbbbbbb\""
      ],
      "metadata": {
        "id": "cgT_1rUCqlWi"
      },
      "execution_count": null,
      "outputs": []
    },
    {
      "cell_type": "code",
      "source": [
        "pip install shroomdk"
      ],
      "metadata": {
        "colab": {
          "base_uri": "https://localhost:8080/"
        },
        "id": "z8Nj4DLXmTZ1",
        "outputId": "275a14f8-3558-4534-e41a-288d129a231c"
      },
      "execution_count": 2,
      "outputs": [
        {
          "output_type": "stream",
          "name": "stdout",
          "text": [
            "Looking in indexes: https://pypi.org/simple, https://us-python.pkg.dev/colab-wheels/public/simple/\n",
            "Requirement already satisfied: shroomdk in /usr/local/lib/python3.9/dist-packages (1.0.2)\n",
            "Requirement already satisfied: urllib3==1.26.11 in /usr/local/lib/python3.9/dist-packages (from shroomdk) (1.26.11)\n",
            "Requirement already satisfied: requests==2.28.1 in /usr/local/lib/python3.9/dist-packages (from shroomdk) (2.28.1)\n",
            "Requirement already satisfied: pydantic==1.9.1 in /usr/local/lib/python3.9/dist-packages (from shroomdk) (1.9.1)\n",
            "Requirement already satisfied: typing-extensions>=3.7.4.3 in /usr/local/lib/python3.9/dist-packages (from pydantic==1.9.1->shroomdk) (4.5.0)\n",
            "Requirement already satisfied: certifi>=2017.4.17 in /usr/local/lib/python3.9/dist-packages (from requests==2.28.1->shroomdk) (2022.12.7)\n",
            "Requirement already satisfied: charset-normalizer<3,>=2 in /usr/local/lib/python3.9/dist-packages (from requests==2.28.1->shroomdk) (2.0.12)\n",
            "Requirement already satisfied: idna<4,>=2.5 in /usr/local/lib/python3.9/dist-packages (from requests==2.28.1->shroomdk) (3.4)\n"
          ]
        }
      ]
    },
    {
      "cell_type": "code",
      "source": [
        "from shroomdk import ShroomDK\n",
        "\n",
        "# Initialize `ShroomDK` with your API Key\n",
        "sdk = ShroomDK(api_key)\n",
        "my_address = \"0xFeffc0E5C9575576C1922978102afa2D803Dc93F\" # garden point contract\n",
        "\n",
        "sql_blocknumber = f\"\"\"\n",
        "    SELECT\n",
        "        block_timestamp, \n",
        "        block_number\n",
        "    FROM ethereum.core.ez_nft_transfers\n",
        "    WHERE date_trunc('minute', block_timestamp) = '{timestamp}'\n",
        "    ORDER BY block_timestamp DESC\n",
        "    LIMIT 1\n",
        "\"\"\"\n",
        "\n",
        "query_result_timestamp = sdk.query(sql_blocknumber)\n",
        "\n",
        "for record in query_result_timestamp.records:\n",
        "    snapshot = record['block_number']"
      ],
      "metadata": {
        "id": "fEdyIR7pmZQc"
      },
      "execution_count": 3,
      "outputs": []
    },
    {
      "cell_type": "code",
      "source": [
        "# Parameters can be passed into SQL statements \n",
        "# via native string interpolation\n",
        "\n",
        "sql = f\"\"\"\n",
        "    WITH wallets as(\n",
        "    SELECT \n",
        "        nft_to_address as wallet, \n",
        "        max(block_number) as last_transfer \n",
        "    FROM ethereum.core.ez_nft_transfers \n",
        "    WHERE nft_address = LOWER('{my_address}')\n",
        "    GROUP BY wallet\n",
        "    ),\n",
        "\n",
        "    first_data as(\n",
        "    SELECT\n",
        "        nft_to_address as owner,\n",
        "        tokenid\n",
        "    FROM ethereum.core.ez_nft_transfers\n",
        "    WHERE nft_address = LOWER('{my_address}')\n",
        "    AND block_number <= '{snapshot}'\n",
        "    QUALIFY RANK() OVER (\n",
        "        PARTITION BY tokenid \n",
        "        ORDER BY block_number DESC, event_index DESC) = 1        \n",
        "    )\n",
        "    SELECT *\n",
        "    FROM first_data\n",
        "    ORDER BY owner\n",
        "    \n",
        "\"\"\"\n",
        "\n",
        "# Run the query against Flipside's query engine \n",
        "# and await the results\n",
        "query_result_set = sdk.query(sql)"
      ],
      "metadata": {
        "id": "CYwC-A8ZmcQU"
      },
      "execution_count": 4,
      "outputs": []
    },
    {
      "cell_type": "code",
      "source": [
        "import pandas as pd\n",
        "\n",
        "# create empty data frame container\n",
        "data = []\n",
        "\n",
        "# convert sql run result into pandas dataframe\n",
        "for record in query_result_set.records:\n",
        "    owner = record['owner']\n",
        "    tokenid = record['tokenid']\n",
        "    data.append({'owner': owner, 'token_id': tokenid})\n",
        "df = pd.DataFrame(data)\n",
        "\n",
        "# convert token id data type from object/string to integer\n",
        "df['token_id'] = df['token_id'].astype(int)"
      ],
      "metadata": {
        "id": "QQzk6S4Zmu_a"
      },
      "execution_count": 5,
      "outputs": []
    },
    {
      "cell_type": "code",
      "source": [
        "# import garden point token metadata from github repository\n",
        "\n",
        "token_metadata_url = 'https://raw.githubusercontent.com/fcitra/GP-snapshot/main/GardenPoint%20Covers.csv'\n",
        "token_metadata_df = pd.read_csv(token_metadata_url)"
      ],
      "metadata": {
        "id": "YrQSaC7omxS1"
      },
      "execution_count": 6,
      "outputs": []
    },
    {
      "cell_type": "code",
      "source": [
        "# merge token holders' snapshot with token metadata\n",
        "merged_df = pd.merge(df, token_metadata_df, on ='token_id', how = 'left')\n",
        "\n",
        "# group token quantity based on holder wallet and rarity type\n",
        "grouped_df = merged_df.groupby(['owner', 'Metadata'])['Metadata'].size()\n",
        "\n",
        "# unstack grouped rows into columns\n",
        "df_unstack = grouped_df.unstack()\n",
        "\n",
        "# change NaN value into 0 \n",
        "df_unstack = df_unstack.fillna(0)"
      ],
      "metadata": {
        "id": "bGxk7o_hm0wP"
      },
      "execution_count": 7,
      "outputs": []
    },
    {
      "cell_type": "code",
      "source": [
        "# export dataframe to csv file \n",
        "\n",
        "df_unstack.to_csv('snapshot_rarity.csv', index = True)"
      ],
      "metadata": {
        "id": "wkw5YNrNm1Qw"
      },
      "execution_count": 8,
      "outputs": []
    }
  ]
}
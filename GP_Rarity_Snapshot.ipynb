{
  "cells": [
    {
      "cell_type": "code",
      "execution_count": 23,
      "metadata": {
        "id": "91Jcv8q35bEz"
      },
      "outputs": [],
      "source": [
        "timestamp = \"2023-04-17 22:00\" # Enter timestamp in UTC in this format\n",
        "api_key = \"xxxxxxxx-yyyy-zzzz-aaaa-bbbbbbbbbbbb\" # Enter your API key\n",
        "garden_point_contract = \"0xFeffc0E5C9575576C1922978102afa2D803Dc93F\" # Enter garden point's contract\n",
        "ch_proxy = \"0x0b2e0bdaffd0881988f37057104977c9206fe481\" # Enter cyberhornets' proxy contract on kometh\n",
        "ch_comics = \"0x303Fd791674D67e1288f769B54699c170eEdE5e7\" # Enter cyberhornets' comic contract "
      ]
    },
    {
      "cell_type": "code",
      "execution_count": null,
      "metadata": {
        "id": "cgT_1rUCqlWi"
      },
      "outputs": [],
      "source": [
        "# format for api_key\n",
        "# api_key = \"xxxxxxxx-yyyy-zzzz-aaaa-bbbbbbbbbbbb\""
      ]
    },
    {
      "cell_type": "code",
      "execution_count": null,
      "metadata": {
        "colab": {
          "base_uri": "https://localhost:8080/"
        },
        "id": "z8Nj4DLXmTZ1",
        "outputId": "275a14f8-3558-4534-e41a-288d129a231c"
      },
      "outputs": [],
      "source": [
        "pip install shroomdk"
      ]
    },
    {
      "cell_type": "code",
      "execution_count": 2,
      "metadata": {},
      "outputs": [],
      "source": [
        "import pandas as pd "
      ]
    },
    {
      "cell_type": "code",
      "execution_count": 3,
      "metadata": {
        "id": "fEdyIR7pmZQc"
      },
      "outputs": [],
      "source": [
        "from shroomdk import ShroomDK\n",
        "\n",
        "# Initialize `ShroomDK` with your API Key\n",
        "sdk = ShroomDK(api_key)\n",
        "\n",
        "\n",
        "# First query is to get a block number for snapshot that corresponds to snapshot time\n",
        "sql_blocknumber = f\"\"\"\n",
        "    SELECT\n",
        "        block_timestamp, \n",
        "        block_number\n",
        "    FROM ethereum.core.ez_nft_transfers\n",
        "    WHERE date_trunc('minute', block_timestamp) = '{timestamp}'\n",
        "    ORDER BY block_timestamp DESC\n",
        "    LIMIT 1\n",
        "\"\"\"\n",
        "\n",
        "query_result_timestamp = sdk.query(sql_blocknumber)\n",
        "\n",
        "for record in query_result_timestamp.records:\n",
        "    snapshot = record['block_number']"
      ]
    },
    {
      "cell_type": "code",
      "execution_count": 4,
      "metadata": {
        "id": "CYwC-A8ZmcQU"
      },
      "outputs": [],
      "source": [
        "# Parameters can be passed into SQL statements \n",
        "# via native string interpolation\n",
        "# Second query is to obtain token wallet balances during a particular block \n",
        "\n",
        "my_address = garden_point_contract # garden point contract\n",
        "\n",
        "sql = f\"\"\"\n",
        "    WITH wallets as(\n",
        "    SELECT \n",
        "        nft_to_address as wallet, \n",
        "        max(block_number) as last_transfer \n",
        "    FROM ethereum.core.ez_nft_transfers \n",
        "    WHERE nft_address = LOWER('{my_address}')\n",
        "    GROUP BY wallet\n",
        "    ),\n",
        "\n",
        "    first_data as(\n",
        "    SELECT\n",
        "        nft_to_address as owner,\n",
        "        tokenid\n",
        "    FROM ethereum.core.ez_nft_transfers\n",
        "    WHERE nft_address = LOWER('{my_address}')\n",
        "    AND block_number <= '{snapshot}'\n",
        "    QUALIFY RANK() OVER (\n",
        "        PARTITION BY tokenid \n",
        "        ORDER BY block_number DESC, event_index DESC) = 1        \n",
        "    )\n",
        "    SELECT *\n",
        "    FROM first_data\n",
        "    ORDER BY owner\n",
        "    \n",
        "\"\"\"\n",
        "\n",
        "# Run the query against Flipside's query engine \n",
        "# and await the results\n",
        "query_result_set = sdk.query(sql)"
      ]
    },
    {
      "cell_type": "code",
      "execution_count": 18,
      "metadata": {},
      "outputs": [],
      "source": [
        "# third sql is to retrieve the minters of cyberhornets\n",
        "\n",
        "sql_3 = f\"\"\"\n",
        "    with chc_mints as (\n",
        "    select\n",
        "      block_timestamp, \n",
        "      block_number, \n",
        "      event_type,\n",
        "      nft_address,\n",
        "      nft_from_address as sender, \n",
        "      nft_to_address as wallet, \n",
        "      tokenid,\n",
        "      erc1155_value \n",
        "    from ethereum.core.ez_nft_transfers\n",
        "    where nft_from_address = LOWER('{ch_proxy}')\n",
        "    and block_number <= '{snapshot}'\n",
        "    )\n",
        "\n",
        "    , chc_transactions as (\n",
        "    select \n",
        "      block_timestamp, \n",
        "      block_number, \n",
        "      event_type, \n",
        "      nft_address, \n",
        "      nft_from_address as sender,\n",
        "      nft_to_address as recipient, \n",
        "      tokenid, \n",
        "      erc1155_value\n",
        "    from ethereum.core.ez_nft_transfers \n",
        "    where nft_address = LOWER('{ch_comics}') \n",
        "    )\n",
        "\n",
        "    select wallet, sum(erc1155_value) as minted from chc_mints\n",
        "    group by wallet\n",
        "    order by minted DESC\n",
        "    \n",
        "\"\"\"\n",
        "\n",
        "# Run the query against Flipside's query engine \n",
        "# and await the results\n",
        "query_result_set_3 = sdk.query(sql_3)"
      ]
    },
    {
      "cell_type": "code",
      "execution_count": 19,
      "metadata": {
        "id": "QQzk6S4Zmu_a"
      },
      "outputs": [],
      "source": [
        "# create empty data frame container for garden point rarity holder\n",
        "data = []\n",
        "\n",
        "# convert sql run result into pandas dataframe\n",
        "for record in query_result_set.records:\n",
        "    owner = record['owner']\n",
        "    tokenid = record['tokenid']\n",
        "    data.append({'owner': owner, 'token_id': tokenid})\n",
        "df = pd.DataFrame(data)\n",
        "\n",
        "# convert token id data type from object/string to integer\n",
        "df['token_id'] = df['token_id'].astype(int)"
      ]
    },
    {
      "cell_type": "code",
      "execution_count": 20,
      "metadata": {},
      "outputs": [],
      "source": [
        "# create empty data frame container for cyber hornets minters\n",
        "\n",
        "data_3 = []\n",
        "\n",
        "for record in query_result_set_3.records:\n",
        "    wallet = record['wallet']\n",
        "    minted = record['minted']\n",
        "    data_3.append({'wallet': wallet, 'minted': minted})\n",
        "df_3 = pd.DataFrame(data_3)\n",
        "\n",
        "# data frame for cyber hornets minters through kometh\n",
        "\n",
        "df_3['minted'] = df_3['minted'].astype(int)\n",
        "\n"
      ]
    },
    {
      "cell_type": "code",
      "execution_count": 6,
      "metadata": {
        "id": "YrQSaC7omxS1"
      },
      "outputs": [],
      "source": [
        "# import garden point token metadata from github repository\n",
        "\n",
        "token_metadata_url = 'https://raw.githubusercontent.com/fcitra/GP-snapshot/main/GardenPoint%20Covers.csv'\n",
        "token_metadata_df = pd.read_csv(token_metadata_url)"
      ]
    },
    {
      "cell_type": "code",
      "execution_count": 7,
      "metadata": {
        "id": "bGxk7o_hm0wP"
      },
      "outputs": [],
      "source": [
        "# merge token holders' snapshot with token metadata\n",
        "merged_df = pd.merge(df, token_metadata_df, on ='token_id', how = 'left')\n",
        "\n",
        "# fill missing metadata value for new tokens minted from burning event \n",
        "merged_df['Metadata'].fillna('RARE', inplace = True)\n",
        "\n",
        "# group token quantity based on holder wallet and rarity type\n",
        "grouped_df = merged_df.groupby(['owner', 'Metadata'])['Metadata'].size()\n",
        "\n",
        "# unstack grouped rows into columns\n",
        "df_unstack = grouped_df.unstack()\n",
        "\n",
        "# change NaN value into 0 \n",
        "df_unstack = df_unstack.fillna(0)"
      ]
    },
    {
      "cell_type": "code",
      "execution_count": null,
      "metadata": {
        "id": "wkw5YNrNm1Qw"
      },
      "outputs": [],
      "source": [
        "# create file csv file name for garden point holders\n",
        "csv_name = 'snapshot_rarity_block_' + str(snapshot) + '.csv'\n",
        "\n",
        "# create file csv for ch minters\n",
        "csv_minters_name = 'ch_minters_block_' + str(snapshot) + '.csv'\n",
        "\n",
        "# export dataframe to csv file \n",
        "df_unstack.to_csv(csv_name, index = True)\n",
        "\n",
        "# export dataframe to csv file \n",
        "df_3.to_csv(csv_minters_name, index = True)"
      ]
    }
  ],
  "metadata": {
    "colab": {
      "provenance": []
    },
    "kernelspec": {
      "display_name": "Python 3.8.5 ('base')",
      "language": "python",
      "name": "python3"
    },
    "language_info": {
      "codemirror_mode": {
        "name": "ipython",
        "version": 3
      },
      "file_extension": ".py",
      "mimetype": "text/x-python",
      "name": "python",
      "nbconvert_exporter": "python",
      "pygments_lexer": "ipython3",
      "version": "3.8.5"
    },
    "vscode": {
      "interpreter": {
        "hash": "f19328809354835b6efb0b42dccd0f6561f99cdc90888a50a9b48e8c75d8c9e1"
      }
    }
  },
  "nbformat": 4,
  "nbformat_minor": 0
}
